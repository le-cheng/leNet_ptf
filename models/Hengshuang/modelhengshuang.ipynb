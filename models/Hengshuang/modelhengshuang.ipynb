{
 "cells": [
  {
   "cell_type": "code",
   "execution_count": null,
   "metadata": {},
   "outputs": [],
   "source": []
  },
  {
   "cell_type": "code",
   "execution_count": 3,
   "metadata": {},
   "outputs": [],
   "source": [
    "import torch\n",
    "import torch.nn as nn\n",
    "import torch.nn.functional as F\n",
    "from time import time\n",
    "import numpy as np"
   ]
  },
  {
   "cell_type": "code",
   "execution_count": 4,
   "metadata": {},
   "outputs": [],
   "source": [
    "def square_distance(src, dst):\n",
    "    \"\"\"\n",
    "    Calculate Euclid distance between each two points.\n",
    "    计算每两个点之间的欧几里得距离。\n",
    "    dist = (xn - xm)^2 + (yn - ym)^2 + (zn - zm)^2\n",
    "         = sum(src**2,dim=-1)+sum(dst**2,dim=-1)-2*src^T*dst\n",
    "    Input:\n",
    "        src: source points, [B, N, C]\n",
    "        dst: target points, [B, M, C]\n",
    "    Output:\n",
    "        dist: per-point square distance, [B, N, M]\n",
    "    \"\"\"\n",
    "    return torch.sum((src[:, :, None] - dst[:, None]) ** 2, dim=-1)\n",
    "\n",
    "def index_points(points, idx):\n",
    "    \"\"\"\n",
    "    Input:\n",
    "        points: input points data, [B, N, C]\n",
    "        idx: sample index data, [B, S, [K]]\n",
    "    Return:\n",
    "        new_points:, indexed points data, [B, S, [K], C]\n",
    "    \"\"\"\n",
    "    raw_size = idx.size()\n",
    "    idx = idx.reshape(raw_size[0], -1)\n",
    "    res = torch.gather(points, 1, idx[..., None].expand(-1, -1, points.size(-1)))\n",
    "    return res.reshape(*raw_size, -1)"
   ]
  },
  {
   "cell_type": "code",
   "execution_count": 5,
   "metadata": {},
   "outputs": [],
   "source": [
    "d_model=512\n",
    "d_points = 32\n",
    "fc1 = nn.Linear(d_points, d_model)\n",
    "fc2 = nn.Linear(d_model, d_points)\n",
    "fc_delta = nn.Sequential(\n",
    "    nn.Linear(3, d_model),\n",
    "    nn.ReLU(),\n",
    "    nn.Linear(d_model, d_model)\n",
    ")\n",
    "fc_gamma = nn.Sequential(\n",
    "    nn.Linear(d_model, d_model),\n",
    "    nn.ReLU(),\n",
    "    nn.Linear(d_model, d_model)\n",
    ")\n",
    "w_qs = nn.Linear(d_model, d_model, bias=False)\n",
    "w_ks = nn.Linear(d_model, d_model, bias=False)\n",
    "w_vs = nn.Linear(d_model, d_model, bias=False)\n",
    "k = 16"
   ]
  },
  {
   "cell_type": "markdown",
   "metadata": {},
   "source": [
    "# start"
   ]
  },
  {
   "cell_type": "code",
   "execution_count": 6,
   "metadata": {},
   "outputs": [
    {
     "name": "stdout",
     "output_type": "stream",
     "text": [
      "torch.Size([8, 1024, 3])\n"
     ]
    }
   ],
   "source": [
    "random_seed = 1234\n",
    "torch.manual_seed(random_seed)\n",
    "point = torch.randn(8,1024,6)\n",
    "xyz = point[..., :3]\n",
    "print(xyz.shape)"
   ]
  },
  {
   "cell_type": "code",
   "execution_count": 7,
   "metadata": {},
   "outputs": [
    {
     "name": "stdout",
     "output_type": "stream",
     "text": [
      "torch.Size([8, 1024, 32])\n"
     ]
    }
   ],
   "source": [
    "fcc1 = nn.Sequential(\n",
    "    nn.Linear(6, 32), \n",
    "    nn.ReLU(),\n",
    "    nn.Linear(32, 32) # point [16,1024,6] to [16,1024,32]\n",
    "    )\n",
    "features=fcc1(point)\n",
    "print(features.shape)"
   ]
  },
  {
   "cell_type": "code",
   "execution_count": 8,
   "metadata": {},
   "outputs": [
    {
     "name": "stdout",
     "output_type": "stream",
     "text": [
      "torch.Size([8, 1024, 1024])\n"
     ]
    }
   ],
   "source": [
    "dists = square_distance(xyz, xyz)# 计算点距离 逐个相减\n",
    "    #dist = (xn - xm)^2 + (yn - ym)^2 + (zn - zm)^2\n",
    "    #     = sum(src**2,dim=-1)+sum(dst**2,dim=-1)-2*src^T*dst\n",
    "print(dists.shape)"
   ]
  },
  {
   "cell_type": "code",
   "execution_count": 9,
   "metadata": {},
   "outputs": [
    {
     "name": "stdout",
     "output_type": "stream",
     "text": [
      "torch.Size([8, 1024, 16])\n"
     ]
    }
   ],
   "source": [
    "knn_idx = dists.argsort()[:, :, :k]  # b x n x k 排序取前k个\n",
    "print(knn_idx.shape)"
   ]
  },
  {
   "cell_type": "code",
   "execution_count": 10,
   "metadata": {},
   "outputs": [
    {
     "name": "stdout",
     "output_type": "stream",
     "text": [
      "torch.Size([8, 1024, 16, 3])\n"
     ]
    }
   ],
   "source": [
    "knn_xyz = index_points(xyz, knn_idx)\n",
    "print(knn_xyz.shape)"
   ]
  },
  {
   "cell_type": "code",
   "execution_count": 11,
   "metadata": {},
   "outputs": [
    {
     "name": "stdout",
     "output_type": "stream",
     "text": [
      "torch.Size([8, 1024, 512])\n",
      "torch.Size([8, 1024, 512])\n",
      "torch.Size([8, 1024, 16, 512])\n",
      "torch.Size([8, 1024, 16, 512])\n"
     ]
    }
   ],
   "source": [
    "pre = features\n",
    "x = fc1(features)   #features [16,1024,32] to [16,1024,512]\n",
    "print(x.shape)\n",
    "q, k, v = w_qs(x), index_points(w_ks(x), knn_idx), index_points(w_vs(x), knn_idx)\n",
    "print(q.shape)\n",
    "print(k.shape)\n",
    "print(v.shape)"
   ]
  },
  {
   "cell_type": "code",
   "execution_count": 12,
   "metadata": {},
   "outputs": [
    {
     "data": {
      "text/plain": [
       "512"
      ]
     },
     "execution_count": 12,
     "metadata": {},
     "output_type": "execute_result"
    }
   ],
   "source": [
    "k.size(-1)"
   ]
  },
  {
   "cell_type": "code",
   "execution_count": 13,
   "metadata": {},
   "outputs": [
    {
     "data": {
      "text/plain": [
       "22.627416997969522"
      ]
     },
     "execution_count": 13,
     "metadata": {},
     "output_type": "execute_result"
    }
   ],
   "source": [
    "np.sqrt(k.size(-1))"
   ]
  },
  {
   "cell_type": "code",
   "execution_count": 14,
   "metadata": {},
   "outputs": [
    {
     "name": "stdout",
     "output_type": "stream",
     "text": [
      "torch.Size([8, 1024, 16, 512])\n",
      "torch.Size([8, 1024, 16, 3])\n"
     ]
    }
   ],
   "source": [
    "pos_enc = fc_delta(xyz[:, :, None] - knn_xyz)  # b x n x k x f  邻居向量\n",
    "print(pos_enc.shape)\n",
    "print((xyz[:, :, None] - knn_xyz).shape)"
   ]
  },
  {
   "cell_type": "code",
   "execution_count": 15,
   "metadata": {},
   "outputs": [
    {
     "name": "stdout",
     "output_type": "stream",
     "text": [
      "torch.Size([8, 1024, 16, 512])\n",
      "torch.Size([8, 1024, 16, 512])\n"
     ]
    }
   ],
   "source": [
    "attn = fc_gamma(q[:, :, None] - k + pos_enc)\n",
    "print(attn.shape)\n",
    "attn = F.softmax(attn / np.sqrt(k.size(-1)), dim=-2)  # b x n x k x f\n",
    "print(attn.shape)"
   ]
  },
  {
   "cell_type": "code",
   "execution_count": 16,
   "metadata": {},
   "outputs": [
    {
     "name": "stdout",
     "output_type": "stream",
     "text": [
      "torch.Size([8, 1024, 512])\n",
      "torch.Size([8, 1024, 32])\n"
     ]
    }
   ],
   "source": [
    "res = torch.einsum('bmnf,bmnf->bmf', attn, v + pos_enc)\n",
    "print(res.shape)\n",
    "res = fc2(res) + pre\n",
    "print(res.shape)"
   ]
  },
  {
   "cell_type": "code",
   "execution_count": null,
   "metadata": {},
   "outputs": [],
   "source": []
  },
  {
   "cell_type": "code",
   "execution_count": null,
   "metadata": {},
   "outputs": [],
   "source": [
    "torch.manual_seed(1234)\n",
    "point1 = torch.randn(2,4,3)\n",
    "print(point1)\n",
    "print(point1[:, :, None].shape)\n",
    "# print(point[:, :, None])\n",
    "print(point1[:, None].shape)\n",
    "# print(point[:, None])\n",
    "print((point1[:, :, None] - point1[:, None]).shape)\n",
    "# print(point[:, :, None] - point[:, None])\n",
    "print(torch.sum((point1[:, :, None] - point1[:, None]) ** 2, dim=-1).shape)"
   ]
  }
 ],
 "metadata": {
  "interpreter": {
   "hash": "cc43281661763e45bb3fb5925e0cd632a4bd4422bbf06d07dba6dc2083cd4996"
  },
  "kernelspec": {
   "display_name": "Python 3.7.11 64-bit ('ptf': conda)",
   "language": "python",
   "name": "python3"
  },
  "language_info": {
   "codemirror_mode": {
    "name": "ipython",
    "version": 3
   },
   "file_extension": ".py",
   "mimetype": "text/x-python",
   "name": "python",
   "nbconvert_exporter": "python",
   "pygments_lexer": "ipython3",
   "version": "3.7.11"
  },
  "orig_nbformat": 4
 },
 "nbformat": 4,
 "nbformat_minor": 2
}
