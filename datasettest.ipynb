{
 "cells": [
  {
   "cell_type": "markdown",
   "metadata": {},
   "source": [
    "# dataset测试"
   ]
  },
  {
   "cell_type": "code",
   "execution_count": 1,
   "metadata": {},
   "outputs": [
    {
     "name": "stdout",
     "output_type": "stream",
     "text": [
      "The size of test data is 908\n",
      "908\n",
      "1024\n",
      "1\n"
     ]
    },
    {
     "data": {
      "text/plain": [
       "array([5], dtype=int32)"
      ]
     },
     "execution_count": 1,
     "metadata": {},
     "output_type": "execute_result"
    }
   ],
   "source": [
    "from dataset import ModelNetDataLoader\n",
    "from torch.utils.data import DataLoader\n",
    "\n",
    "DATA_PATH = 'data/modelnet40_normal_resampled/'\n",
    "TRAIN_DATASET = ModelNetDataLoader(\n",
    "    root=DATA_PATH, npoint=1024, \n",
    "    split='test' , normal_channel=True, classes=10)\n",
    "\n",
    "#os.environ[\"CUDA_VISIBLE_DEVICES\"] = '0'\n",
    "print(len(TRAIN_DATASET))\n",
    "print(len(TRAIN_DATASET[500][0]))\n",
    "print(len(TRAIN_DATASET[500][1]))\n",
    "TRAIN_DATASET[500][1]"
   ]
  },
  {
   "cell_type": "code",
   "execution_count": 1,
   "metadata": {},
   "outputs": [],
   "source": [
    "from visualizer.show3d_balls import showpoints,cmap\n",
    "# from ShapeNetDataLoader import PartNormalDataset\n",
    "root = '../data/shapenetcore_partanno_segmentation_benchmark_v0_normal/'\n",
    "dataset = ModelNetDataLoader(root = root, npoints=2048, split='test', normal_channel=False)\n",
    "idx = np.random.randint(0, len(dataset))\n",
    "data = dataset[idx]\n",
    "point_set, _, seg = data\n",
    "choice = np.random.choice(point_set.shape[0], 2048, replace=True)\n",
    "point_set, seg = point_set[choice, :], seg[choice]\n",
    "seg = seg - seg.min()\n",
    "gt = cmap[seg, :]\n",
    "pred = cmap[seg, :]\n",
    "showpoints(point_set, gt, c_pred=pred, waittime=0, showrot=False, magnifyBlue=0, freezerot=False,\n",
    "            background=(255, 255, 255), normalizecolor=True, ballradius=10)"
   ]
  },
  {
   "cell_type": "code",
   "execution_count": 20,
   "metadata": {},
   "outputs": [
    {
     "data": {
      "text/plain": [
       "array([2, 2, 2, ..., 2, 2, 2], dtype=int32)"
      ]
     },
     "execution_count": 20,
     "metadata": {},
     "output_type": "execute_result"
    }
   ],
   "source": [
    "TRAIN_DATASET[1000][1]"
   ]
  },
  {
   "cell_type": "code",
   "execution_count": 2,
   "metadata": {},
   "outputs": [
    {
     "data": {
      "text/plain": [
       "227"
      ]
     },
     "execution_count": 2,
     "metadata": {},
     "output_type": "execute_result"
    }
   ],
   "source": [
    "trainDataLoader = DataLoader(\n",
    "        TRAIN_DATASET , batch_size=4, \n",
    "        shuffle=True  , num_workers=8)\n",
    " #遍历\n",
    "len(trainDataLoader)"
   ]
  },
  {
   "cell_type": "code",
   "execution_count": 4,
   "metadata": {},
   "outputs": [
    {
     "name": "stdout",
     "output_type": "stream",
     "text": [
      "torch.Size([4, 1024, 6])\n",
      "torch.Size([4, 1])\n"
     ]
    },
    {
     "data": {
      "text/plain": [
       "tensor([[4],\n",
       "        [1],\n",
       "        [4],\n",
       "        [1]], dtype=torch.int32)"
      ]
     },
     "execution_count": 4,
     "metadata": {},
     "output_type": "execute_result"
    }
   ],
   "source": [
    "train_features, train_labels = next(iter(trainDataLoader))\n",
    "print(train_features.shape) \n",
    "print(train_labels.shape) \n",
    "train_labels"
   ]
  },
  {
   "cell_type": "code",
   "execution_count": null,
   "metadata": {},
   "outputs": [],
   "source": []
  },
  {
   "cell_type": "code",
   "execution_count": 17,
   "metadata": {},
   "outputs": [],
   "source": [
    "from train_cls import *\n",
    "# cfg.num_point = 1024\n",
    "# model = getattr(importlib.import_module('models.{}.model'.format('Hengshuang')), 'PointTransformerCls')(cfg).cuda()"
   ]
  },
  {
   "cell_type": "code",
   "execution_count": 24,
   "metadata": {},
   "outputs": [
    {
     "data": {
      "text/plain": [
       "tensor([2, 4, 2, 8], dtype=torch.int32)"
      ]
     },
     "execution_count": 24,
     "metadata": {},
     "output_type": "execute_result"
    }
   ],
   "source": [
    "target = train_labels[:,0]\n",
    "target"
   ]
  },
  {
   "cell_type": "code",
   "execution_count": 23,
   "metadata": {},
   "outputs": [
    {
     "data": {
      "text/plain": [
       "array([2, 4, 8], dtype=int32)"
      ]
     },
     "execution_count": 23,
     "metadata": {},
     "output_type": "execute_result"
    }
   ],
   "source": [
    "np.unique(target)"
   ]
  },
  {
   "cell_type": "code",
   "execution_count": 25,
   "metadata": {},
   "outputs": [
    {
     "data": {
      "text/plain": [
       "tensor([ True, False,  True, False])"
      ]
     },
     "execution_count": 25,
     "metadata": {},
     "output_type": "execute_result"
    }
   ],
   "source": [
    "target==2"
   ]
  },
  {
   "cell_type": "code",
   "execution_count": 26,
   "metadata": {},
   "outputs": [
    {
     "data": {
      "text/plain": [
       "tensor([ True, False,  True, False])"
      ]
     },
     "execution_count": 26,
     "metadata": {},
     "output_type": "execute_result"
    }
   ],
   "source": [
    "cat_idex = (target==2)\n",
    "cat_idex"
   ]
  },
  {
   "cell_type": "code",
   "execution_count": 27,
   "metadata": {},
   "outputs": [
    {
     "data": {
      "text/plain": [
       "tensor([2, 2])"
      ]
     },
     "execution_count": 27,
     "metadata": {},
     "output_type": "execute_result"
    }
   ],
   "source": [
    "target[cat_idex].long().data"
   ]
  },
  {
   "cell_type": "code",
   "execution_count": 30,
   "metadata": {},
   "outputs": [
    {
     "data": {
      "text/plain": [
       "2"
      ]
     },
     "execution_count": 30,
     "metadata": {},
     "output_type": "execute_result"
    }
   ],
   "source": [
    "cat_idex.sum().item()"
   ]
  },
  {
   "cell_type": "code",
   "execution_count": 35,
   "metadata": {},
   "outputs": [],
   "source": [
    "pred = torch.Tensor([1,2])\n"
   ]
  },
  {
   "cell_type": "code",
   "execution_count": 36,
   "metadata": {},
   "outputs": [
    {
     "data": {
      "text/plain": [
       "tensor([False,  True])"
      ]
     },
     "execution_count": 36,
     "metadata": {},
     "output_type": "execute_result"
    }
   ],
   "source": [
    "pred.eq(target[cat_idex].long().data)"
   ]
  },
  {
   "cell_type": "code",
   "execution_count": 41,
   "metadata": {},
   "outputs": [
    {
     "data": {
      "text/plain": [
       "torch.Size([2, 1024, 6])"
      ]
     },
     "execution_count": 41,
     "metadata": {},
     "output_type": "execute_result"
    }
   ],
   "source": [
    "train_features[target==2].size()"
   ]
  },
  {
   "cell_type": "code",
   "execution_count": 40,
   "metadata": {},
   "outputs": [
    {
     "data": {
      "text/plain": [
       "2"
      ]
     },
     "execution_count": 40,
     "metadata": {},
     "output_type": "execute_result"
    }
   ],
   "source": [
    "train_features[target==2].size()[0]"
   ]
  },
  {
   "cell_type": "code",
   "execution_count": null,
   "metadata": {},
   "outputs": [],
   "source": [
    "import random\n",
    "import math\n",
    "import matplotlib.pyplot as plt\n",
    "\n",
    "M = 50 # 所有的点数量\n",
    "N = 10 # fps采样点数量\n",
    "x = []\n",
    "y = []\n",
    "xy = []\n",
    "\n",
    "# 生成数据\n",
    "random.seed(0)\n",
    "for _ in range(M):\n",
    "    px = round(random.uniform(1, 10), 2)  # 生成随机数，浮点类型 控制2位精度\n",
    "    py = round(random.uniform(1, 10), 2)\n",
    "    x.append(px)\n",
    "    y.append(py)\n",
    "    xy.append((px, py))\n",
    "\n",
    "xy"
   ]
  },
  {
   "cell_type": "code",
   "execution_count": null,
   "metadata": {},
   "outputs": [],
   "source": [
    "plt.figure(figsize=(10, 4))\n",
    "plt.subplot(121)\n",
    "plt.title('init_points')\n",
    "plt.scatter(x, y, marker='o', c='r', edgecolors='b', s=200)"
   ]
  },
  {
   "cell_type": "code",
   "execution_count": null,
   "metadata": {},
   "outputs": [],
   "source": [
    "select = []\n",
    "rest = [num for num in range(0, M)]\n",
    "max_dist = -99999\n",
    "farthest_point = 99999"
   ]
  },
  {
   "cell_type": "code",
   "execution_count": null,
   "metadata": {},
   "outputs": [],
   "source": [
    "# step 1 随机选择一个点\n",
    "random.seed(1)\n",
    "ind = random.randint(0, M - 1)\n",
    "\n",
    "select.append(ind)\n",
    "rest.remove(ind)\n",
    "# print('select', select)\n",
    "# print('rest', rest)"
   ]
  },
  {
   "cell_type": "code",
   "execution_count": 17,
   "metadata": {},
   "outputs": [
    {
     "name": "stdout",
     "output_type": "stream",
     "text": [
      "[1. 2. 3. 4. 5. 6.]\n",
      "tensor(1.)\n"
     ]
    },
    {
     "data": {
      "text/plain": [
       "tensor([6., 8.])"
      ]
     },
     "execution_count": 17,
     "metadata": {},
     "output_type": "execute_result"
    }
   ],
   "source": [
    "import numpy as np\n",
    "import torch\n",
    "a=torch.Tensor([1,2,3,4,5,6,6])\n",
    "b=torch.Tensor([1,2,2,2,5,6,8])\n",
    "print(np.unique(a))\n",
    "print((a==6).sum()/2)\n",
    "b[a==6]"
   ]
  }
 ],
 "metadata": {
  "interpreter": {
   "hash": "fcfe3673355d51ce39fcd143ee448a2c2a62ce3d4935bb32670db7a58e7efd78"
  },
  "kernelspec": {
   "display_name": "Python 3.7.11 64-bit ('mm': conda)",
   "language": "python",
   "name": "python3"
  },
  "language_info": {
   "codemirror_mode": {
    "name": "ipython",
    "version": 3
   },
   "file_extension": ".py",
   "mimetype": "text/x-python",
   "name": "python",
   "nbconvert_exporter": "python",
   "pygments_lexer": "ipython3",
   "version": "3.7.11"
  },
  "orig_nbformat": 4
 },
 "nbformat": 4,
 "nbformat_minor": 2
}
