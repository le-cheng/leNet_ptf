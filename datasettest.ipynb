{
 "cells": [
  {
   "cell_type": "markdown",
   "metadata": {},
   "source": [
    "# dataset测试"
   ]
  },
  {
   "cell_type": "code",
   "execution_count": 4,
   "metadata": {},
   "outputs": [
    {
     "name": "stdout",
     "output_type": "stream",
     "text": [
      "The size of train data is 9843\n",
      "9843\n",
      "1024\n"
     ]
    },
    {
     "data": {
      "text/plain": [
       "array([36], dtype=int32)"
      ]
     },
     "execution_count": 4,
     "metadata": {},
     "output_type": "execute_result"
    }
   ],
   "source": [
    "from dataset import ModelNetDataLoader\n",
    "from torch.utils.data import DataLoader\n",
    "\n",
    "DATA_PATH = 'data/modelnet40_normal_resampled/'\n",
    "TRAIN_DATASET = ModelNetDataLoader(\n",
    "    root=DATA_PATH, npoint=1024, \n",
    "    split='train' , normal_channel=True)\n",
    "\n",
    "os.environ[\"CUDA_VISIBLE_DEVICES\"] = '0'\n",
    "print(len(TRAIN_DATASET))\n",
    "print(len(TRAIN_DATASET[9000][0]))\n",
    "TRAIN_DATASET[9000][1]"
   ]
  },
  {
   "cell_type": "code",
   "execution_count": null,
   "metadata": {},
   "outputs": [],
   "source": [
    "trainDataLoader = DataLoader(\n",
    "        TRAIN_DATASET , batch_size=4, \n",
    "        shuffle=True  , num_workers=8)\n",
    "train_features, train_labels = next(iter(trainDataLoader)) #遍历"
   ]
  },
  {
   "cell_type": "markdown",
   "metadata": {},
   "source": []
  },
  {
   "cell_type": "code",
   "execution_count": null,
   "metadata": {},
   "outputs": [],
   "source": [
    "import random\n",
    "import math\n",
    "import matplotlib.pyplot as plt\n",
    "\n",
    "M = 50 # 所有的点数量\n",
    "N = 10 # fps采样点数量\n",
    "x = []\n",
    "y = []\n",
    "xy = []\n",
    "\n",
    "# 生成数据\n",
    "random.seed(0)\n",
    "for _ in range(M):\n",
    "    px = round(random.uniform(1, 10), 2)  # 生成随机数，浮点类型 控制2位精度\n",
    "    py = round(random.uniform(1, 10), 2)\n",
    "    x.append(px)\n",
    "    y.append(py)\n",
    "    xy.append((px, py))\n",
    "\n",
    "xy"
   ]
  },
  {
   "cell_type": "code",
   "execution_count": null,
   "metadata": {},
   "outputs": [],
   "source": [
    "plt.figure(figsize=(10, 4))\n",
    "plt.subplot(121)\n",
    "plt.title('init_points')\n",
    "plt.scatter(x, y, marker='o', c='r', edgecolors='b', s=200)"
   ]
  },
  {
   "cell_type": "code",
   "execution_count": null,
   "metadata": {},
   "outputs": [],
   "source": [
    "select = []\n",
    "rest = [num for num in range(0, M)]\n",
    "max_dist = -99999\n",
    "farthest_point = 99999"
   ]
  },
  {
   "cell_type": "code",
   "execution_count": null,
   "metadata": {},
   "outputs": [],
   "source": [
    "# step 1 随机选择一个点\n",
    "random.seed(1)\n",
    "ind = random.randint(0, M - 1)\n",
    "\n",
    "select.append(ind)\n",
    "rest.remove(ind)\n",
    "# print('select', select)\n",
    "# print('rest', rest)"
   ]
  },
  {
   "cell_type": "code",
   "execution_count": 17,
   "metadata": {},
   "outputs": [
    {
     "name": "stdout",
     "output_type": "stream",
     "text": [
      "[1. 2. 3. 4. 5. 6.]\n",
      "tensor(1.)\n"
     ]
    },
    {
     "data": {
      "text/plain": [
       "tensor([6., 8.])"
      ]
     },
     "execution_count": 17,
     "metadata": {},
     "output_type": "execute_result"
    }
   ],
   "source": [
    "import numpy as np\n",
    "import torch\n",
    "a=torch.Tensor([1,2,3,4,5,6,6])\n",
    "b=torch.Tensor([1,2,2,2,5,6,8])\n",
    "print(np.unique(a))\n",
    "print((a==6).sum()/2)\n",
    "b[a==6]"
   ]
  }
 ],
 "metadata": {
  "interpreter": {
   "hash": "fcfe3673355d51ce39fcd143ee448a2c2a62ce3d4935bb32670db7a58e7efd78"
  },
  "kernelspec": {
   "display_name": "Python 3.7.11 64-bit ('mm': conda)",
   "language": "python",
   "name": "python3"
  },
  "language_info": {
   "codemirror_mode": {
    "name": "ipython",
    "version": 3
   },
   "file_extension": ".py",
   "mimetype": "text/x-python",
   "name": "python",
   "nbconvert_exporter": "python",
   "pygments_lexer": "ipython3",
   "version": "3.7.11"
  },
  "orig_nbformat": 4
 },
 "nbformat": 4,
 "nbformat_minor": 2
}
